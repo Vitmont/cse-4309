{
 "cells": [
  {
   "cell_type": "code",
   "execution_count": 10,
   "metadata": {},
   "outputs": [],
   "source": [
    "import sys\n",
    "import csv\n",
    "import numpy as np\n",
    "from math import *"
   ]
  },
  {
   "cell_type": "code",
   "execution_count": 2,
   "metadata": {},
   "outputs": [],
   "source": [
    "# train = \"pendigits_training.txt\"\n",
    "test = \"yeast_test.txt\"\n",
    "train = \"yeast_training.txt\""
   ]
  },
  {
   "cell_type": "code",
   "execution_count": 3,
   "metadata": {},
   "outputs": [],
   "source": [
    "datafile = open(train, 'r')\n",
    "lines = datafile.readlines()\n",
    "trainData = []\n",
    "for row in lines:\n",
    "    trainData.append(row.split())\n",
    "    \n",
    "datafile = open(train, 'r')\n",
    "lines = datafile.readlines()\n",
    "testData = []\n",
    "for row in lines:\n",
    "    testData.append(row.split()) "
   ]
  },
  {
   "cell_type": "code",
   "execution_count": 4,
   "metadata": {},
   "outputs": [],
   "source": [
    "# Format data into dictionaries and convert to floats\n",
    "totalTrain = len(trainData)\n",
    "totalTest = len(testData)\n",
    "\n",
    "# seperate train based on class\n",
    "trainClasses = dict()\n",
    "for i in range(len(trainData)):\n",
    "    vector = trainData[i]\n",
    "    class_value = int(vector[-1])\n",
    "    if (class_value not in trainClasses):\n",
    "        trainClasses[class_value] = list()\n",
    "    trainClasses[class_value].append(vector[:-1])\n",
    "    \n",
    "# convert train arrays to floats\n",
    "for i in trainClasses:\n",
    "    for j in range(len(trainClasses[i])):\n",
    "        trainClasses[i][j] = np.array(trainClasses[i][j]).astype(np.float64)\n",
    "\n",
    "# convert test arrays to floats\n",
    "for i in range(len(testData)):\n",
    "    testData[i] = np.array(testData[i]).astype(np.float64)"
   ]
  },
  {
   "cell_type": "code",
   "execution_count": 5,
   "metadata": {
    "scrolled": true
   },
   "outputs": [
    {
     "name": "stdout",
     "output_type": "stream",
     "text": [
      "Class 1, attribute 1, mean = 0.52, std = 0.10\n",
      "Class 1, attribute 2, mean = 0.54, std = 0.10\n",
      "Class 1, attribute 3, mean = 0.52, std = 0.07\n",
      "Class 1, attribute 4, mean = 0.41, std = 0.17\n",
      "Class 1, attribute 5, mean = 0.50, std = 0.01\n",
      "Class 1, attribute 6, mean = 0.00, std = 0.01\n",
      "Class 1, attribute 7, mean = 0.50, std = 0.05\n",
      "Class 1, attribute 8, mean = 0.24, std = 0.05\n",
      "Class 2, attribute 1, mean = 0.45, std = 0.11\n",
      "Class 2, attribute 2, mean = 0.45, std = 0.10\n",
      "Class 2, attribute 3, mean = 0.53, std = 0.06\n",
      "Class 2, attribute 4, mean = 0.23, std = 0.11\n",
      "Class 2, attribute 5, mean = 0.50, std = 0.04\n",
      "Class 2, attribute 6, mean = 0.00, std = 0.01\n",
      "Class 2, attribute 7, mean = 0.49, std = 0.06\n",
      "Class 2, attribute 8, mean = 0.33, std = 0.14\n",
      "Class 3, attribute 1, mean = 0.43, std = 0.10\n",
      "Class 3, attribute 2, mean = 0.48, std = 0.11\n",
      "Class 3, attribute 3, mean = 0.36, std = 0.06\n",
      "Class 3, attribute 4, mean = 0.22, std = 0.08\n",
      "Class 3, attribute 5, mean = 0.51, std = 0.05\n",
      "Class 3, attribute 6, mean = 0.00, std = 0.01\n",
      "Class 3, attribute 7, mean = 0.51, std = 0.04\n",
      "Class 3, attribute 8, mean = 0.27, std = 0.09\n",
      "Class 4, attribute 1, mean = 0.79, std = 0.07\n",
      "Class 4, attribute 2, mean = 0.76, std = 0.07\n",
      "Class 4, attribute 3, mean = 0.38, std = 0.06\n",
      "Class 4, attribute 4, mean = 0.32, std = 0.11\n",
      "Class 4, attribute 5, mean = 0.50, std = 0.01\n",
      "Class 4, attribute 6, mean = 0.00, std = 0.01\n",
      "Class 4, attribute 7, mean = 0.51, std = 0.07\n",
      "Class 4, attribute 8, mean = 0.27, std = 0.09\n",
      "Class 5, attribute 1, mean = 0.74, std = 0.16\n",
      "Class 5, attribute 2, mean = 0.62, std = 0.13\n",
      "Class 5, attribute 3, mean = 0.42, std = 0.08\n",
      "Class 5, attribute 4, mean = 0.30, std = 0.12\n",
      "Class 5, attribute 5, mean = 0.50, std = 0.01\n",
      "Class 5, attribute 6, mean = 0.00, std = 0.01\n",
      "Class 5, attribute 7, mean = 0.51, std = 0.06\n",
      "Class 5, attribute 8, mean = 0.24, std = 0.04\n",
      "Class 6, attribute 1, mean = 0.54, std = 0.14\n",
      "Class 6, attribute 2, mean = 0.50, std = 0.12\n",
      "Class 6, attribute 3, mean = 0.51, std = 0.05\n",
      "Class 6, attribute 4, mean = 0.24, std = 0.10\n",
      "Class 6, attribute 5, mean = 0.50, std = 0.01\n",
      "Class 6, attribute 6, mean = 0.49, std = 0.39\n",
      "Class 6, attribute 7, mean = 0.51, std = 0.03\n",
      "Class 6, attribute 8, mean = 0.24, std = 0.05\n",
      "Class 7, attribute 1, mean = 0.48, std = 0.11\n",
      "Class 7, attribute 2, mean = 0.47, std = 0.09\n",
      "Class 7, attribute 3, mean = 0.54, std = 0.06\n",
      "Class 7, attribute 4, mean = 0.22, std = 0.12\n",
      "Class 7, attribute 5, mean = 0.50, std = 0.04\n",
      "Class 7, attribute 6, mean = 0.00, std = 0.03\n",
      "Class 7, attribute 7, mean = 0.50, std = 0.06\n",
      "Class 7, attribute 8, mean = 0.26, std = 0.09\n",
      "Class 8, attribute 1, mean = 0.74, std = 0.11\n",
      "Class 8, attribute 2, mean = 0.73, std = 0.11\n",
      "Class 8, attribute 3, mean = 0.49, std = 0.05\n",
      "Class 8, attribute 4, mean = 0.29, std = 0.07\n",
      "Class 8, attribute 5, mean = 0.50, std = 0.01\n",
      "Class 8, attribute 6, mean = 0.00, std = 0.01\n",
      "Class 8, attribute 7, mean = 0.46, std = 0.08\n",
      "Class 8, attribute 8, mean = 0.23, std = 0.02\n",
      "Class 9, attribute 1, mean = 0.55, std = 0.14\n",
      "Class 9, attribute 2, mean = 0.56, std = 0.16\n",
      "Class 9, attribute 3, mean = 0.51, std = 0.07\n",
      "Class 9, attribute 4, mean = 0.20, std = 0.07\n",
      "Class 9, attribute 5, mean = 0.50, std = 0.01\n",
      "Class 9, attribute 6, mean = 0.00, std = 0.01\n",
      "Class 9, attribute 7, mean = 0.53, std = 0.05\n",
      "Class 9, attribute 8, mean = 0.24, std = 0.05\n",
      "Class 10, attribute 1, mean = 0.78, std = 0.06\n",
      "Class 10, attribute 2, mean = 0.73, std = 0.12\n",
      "Class 10, attribute 3, mean = 0.48, std = 0.11\n",
      "Class 10, attribute 4, mean = 0.33, std = 0.07\n",
      "Class 10, attribute 5, mean = 1.00, std = 0.01\n",
      "Class 10, attribute 6, mean = 0.00, std = 0.01\n",
      "Class 10, attribute 7, mean = 0.55, std = 0.02\n",
      "Class 10, attribute 8, mean = 0.23, std = 0.01\n"
     ]
    }
   ],
   "source": [
    "#TRAINING\n",
    "# prep mean and std matrices\n",
    "numClass = len(trainClasses)\n",
    "numAttr = len(next(iter(trainClasses.values()))[0])\n",
    "trainMean = dict()\n",
    "trainSTD = dict()\n",
    "\n",
    "\n",
    "# calc mean and std for each class and attr\n",
    "for i in trainClasses: # each class\n",
    "    tempMean = tempSTD = [0]*numAttr\n",
    "    \n",
    "    #calc mean\n",
    "    for j in range(len(trainClasses[i])):\n",
    "        tempMean += trainClasses[i][j]\n",
    "    tempMean /= len(trainClasses[i])\n",
    "    trainMean[i] = tempMean\n",
    "    \n",
    "    #calc std\n",
    "    for j in range(len(trainClasses[i])):\n",
    "        tempSTD += ((trainClasses[i][j] - trainMean[i])**2)\n",
    "    tempSTD = (tempSTD/(len(trainClasses[i])-1))**(1/2)    \n",
    "    trainSTD[i] = tempSTD\n",
    "\n",
    "# set to 0.01 if smaller\n",
    "for i in trainSTD:\n",
    "    for j in range(len(trainSTD[i])):\n",
    "        if trainSTD[i][j] < 0.01:\n",
    "            trainSTD[i][j] = 0.01\n",
    "\n",
    "# calc class probabilities\n",
    "classProb = dict()\n",
    "for i in trainClasses:\n",
    "    classProb[i] = len(trainClasses[i])/totalTrain\n",
    "\n",
    "# print train stats\n",
    "for i in sorted(trainMean.keys()):\n",
    "    for j in range(len(trainMean[i])):\n",
    "        print(\"Class {:d}, attribute {:d}, mean = {:0.2f}, std = {:0.2f}\".format(i,j+1,trainMean[i][j], trainSTD[i][j]))"
   ]
  },
  {
   "cell_type": "code",
   "execution_count": 16,
   "metadata": {
    "scrolled": true
   },
   "outputs": [
    {
     "name": "stdout",
     "output_type": "stream",
     "text": [
      "0.5 0.5180473372781064 0.09908076375282888 3.9601920952594982\n",
      "0.46 0.537810650887574 0.10091515592519869 11.629790491979971\n",
      "0.64 0.5157396449704142 0.07325479605535258 15.025770834797862\n",
      "0.36 0.40869822485207064 0.17269767158430258 33.35751679668115\n",
      "0.5 0.5 0.01 1330.7723819397077\n",
      "0.0 0.0 0.01 53090.136874627344\n",
      "0.49 0.5001775147928993 0.049527209606498424 418707.22716174956\n",
      "0.22 0.24254437869822446 0.05366374125935475 2849808.915613733\n",
      "2849808.915613733\n"
     ]
    }
   ],
   "source": [
    "#CLASSIFICATION\n",
    "\n",
    "for i in range(len(testData)):\n",
    "    for j in trainMean:\n",
    "        gaussian = 1\n",
    "        for k in range(len(testData[i])-1):\n",
    "            gaussian *= ((1/(trainSTD[j][k] * math.sqrt(2 * math.pi))) * math.exp(-((testData[i][k] - trainMean[j][k])**2)/(2*trainSTD[j][k]**2)))\n",
    "            print(testData[i][k], trainMean[j][k], trainSTD[j][k], gaussian)\n",
    "        print(gaussian)"
   ]
  }
 ],
 "metadata": {
  "kernelspec": {
   "display_name": "Python 3",
   "language": "python",
   "name": "python3"
  },
  "language_info": {
   "codemirror_mode": {
    "name": "ipython",
    "version": 3
   },
   "file_extension": ".py",
   "mimetype": "text/x-python",
   "name": "python",
   "nbconvert_exporter": "python",
   "pygments_lexer": "ipython3",
   "version": "3.6.5"
  }
 },
 "nbformat": 4,
 "nbformat_minor": 4
}
